{
 "cells": [
  {
   "cell_type": "markdown",
   "metadata": {},
   "source": [
    "## Задание 1"
   ]
  },
  {
   "cell_type": "markdown",
   "metadata": {},
   "source": [
    "Мы делаем MVP dating-сервиса, и у нас есть список парней и девушек (их число может варьироваться):"
   ]
  },
  {
   "cell_type": "code",
   "execution_count": 2,
   "metadata": {},
   "outputs": [],
   "source": [
    "boys = ['Peter', 'Alex', 'John', 'Arthur', 'Richard']\n",
    "girls = ['Kate', 'Liza', 'Kira', 'Emma', 'Trisha']"
   ]
  },
  {
   "cell_type": "markdown",
   "metadata": {},
   "source": [
    "Выдвигаем гипотезу: лучшие рекомендации мы получим, если просто отсортируем имена по алфавиту и познакомим людей с одинаковыми индексами после сортировки! \"Познакомить\" пары нам поможет функция zip, а в цикле распакуем zip-объект и выведем информацию в виде:\n",
    "\n",
    "Идеальные пары:  \n",
    "Alex и Emma  \n",
    "Arthur и Kate  \n",
    "John и Kira  \n",
    "Peter и Liza  \n",
    "Richard и Trisha  "
   ]
  },
  {
   "cell_type": "code",
   "execution_count": 53,
   "metadata": {},
   "outputs": [
    {
     "name": "stdout",
     "output_type": "stream",
     "text": [
      "Идеальные пары:\n",
      "Alex & Emma\n",
      "Arthur & Kate\n",
      "John & Kira\n",
      "Peter & Liza\n",
      "Richard & Trisha\n"
     ]
    },
    {
     "data": {
      "text/plain": [
       "tuple"
      ]
     },
     "execution_count": 53,
     "metadata": {},
     "output_type": "execute_result"
    }
   ],
   "source": [
    "pairs_list = zip(sorted(boys), sorted(girls))\n",
    "# print('Идеальные пары:\\n', list(pairs_list))\n",
    "# type(pairs_list)\n",
    "print('Идеальные пары:')\n",
    "for pair in pairs_list:\n",
    "    #pair = list(pair)\n",
    "    print(pair[0], '&', pair[1])\n",
    "    #print(pair)\n",
    "#type(pair)"
   ]
  },
  {
   "cell_type": "markdown",
   "metadata": {},
   "source": [
    "## Задание 2"
   ]
  },
  {
   "cell_type": "markdown",
   "metadata": {},
   "source": [
    "У нас есть список, содержащий информацию о среднедневной температуре в Фаренгейтах за недельный период по странам.\n",
    "Необходимо написать код, который рассчитает среднюю температуру за неделю в Цельсиях для каждой страны."
   ]
  },
  {
   "cell_type": "code",
   "execution_count": 55,
   "metadata": {},
   "outputs": [],
   "source": [
    "countries_temperature = [\n",
    " ['Thailand', [75.2, 77, 78.8, 73.4, 68, 75.2, 77]],\n",
    " ['Germany', [57.2, 55.4, 59, 59, 53.6, 55.4, 57.2]],\n",
    " ['Russia', [35.6, 37.4, 39.2, 41, 42.8, 39.2, 35.6]],\n",
    " ['Poland', [50, 50, 53.6, 57.2, 55.4, 55.4, 51.8]],\n",
    "]"
   ]
  },
  {
   "cell_type": "code",
   "execution_count": 82,
   "metadata": {},
   "outputs": [
    {
     "name": "stdout",
     "output_type": "stream",
     "text": [
      "Средняя T в Thailand is 23.86\n",
      "Средняя T в Germany is 13.71\n",
      "Средняя T в Russia is 3.71\n",
      "Средняя T в Poland is 11.86\n"
     ]
    }
   ],
   "source": [
    "for country in countries_temperature:\n",
    "    # print(country[1])\n",
    "    sum_temp_C = 0\n",
    "    for av_temp in country[1]:\n",
    "        av_day_temp_C = (av_temp - 32) * 5 / 9 \n",
    "        #print(av_temp_C)\n",
    "        sum_temp_C += av_day_temp_C \n",
    "        #print(sum_temp_C)\n",
    "    av_week_temp_C = sum_temp_C / len(country[1])\n",
    "    print(f'Средняя T в {country[0]} is {round(av_week_temp_C, 2)}')"
   ]
  },
  {
   "cell_type": "markdown",
   "metadata": {},
   "source": [
    "## Задание 3"
   ]
  },
  {
   "cell_type": "markdown",
   "metadata": {},
   "source": [
    "Дан поток логов по количеству просмотренных страниц для каждого пользователя. Список отсортирован по ID пользователя. Вам необходимо написать алгоритм, который считает среднее значение просмотров на пользователя. \n",
    "Т. е. надо посчитать отношение суммы всех просмотров к количеству уникальных пользователей."
   ]
  },
  {
   "cell_type": "code",
   "execution_count": 6,
   "metadata": {},
   "outputs": [],
   "source": [
    "stream = [\n",
    "    '2018-01-01,user1,3',\n",
    "    '2018-01-07,user1,4',\n",
    "    '2018-03-29,user1,1',\n",
    "    '2018-04-04,user1,13',\n",
    "    '2018-01-05,user2,7',\n",
    "    '2018-06-14,user3,4',\n",
    "    '2018-07-02,user3,10',\n",
    "    '2018-03-21,user4,19',\n",
    "    '2018-03-22,user4,4',\n",
    "    '2018-04-22,user4,8',\n",
    "    '2018-05-03,user4,9',\n",
    "    '2018-05-11,user4,11',\n",
    "]"
   ]
  },
  {
   "cell_type": "code",
   "execution_count": 11,
   "metadata": {},
   "outputs": [
    {
     "name": "stdout",
     "output_type": "stream",
     "text": [
      "['2018-01-01', 'user1', '3']\n",
      "['2018-01-07', 'user1', '4']\n",
      "['2018-03-29', 'user1', '1']\n",
      "['2018-04-04', 'user1', '13']\n",
      "['2018-01-05', 'user2', '7']\n",
      "['2018-06-14', 'user3', '4']\n",
      "['2018-07-02', 'user3', '10']\n",
      "['2018-03-21', 'user4', '19']\n",
      "['2018-03-22', 'user4', '4']\n",
      "['2018-04-22', 'user4', '8']\n",
      "['2018-05-03', 'user4', '9']\n",
      "['2018-05-11', 'user4', '11']\n"
     ]
    }
   ],
   "source": [
    "record_list = [record.split(',') for record in stream]\n",
    "for line in record_list: \n",
    "    print(line, end='\\n')\n",
    "    \n",
    "    #не получилось решить до конца"
   ]
  },
  {
   "cell_type": "code",
   "execution_count": 82,
   "metadata": {},
   "outputs": [
    {
     "name": "stdout",
     "output_type": "stream",
     "text": [
      "93\n",
      "{None}\n"
     ]
    }
   ],
   "source": [
    "qua_users = []\n",
    "#print(type(qua_users))\n",
    "qua_views = sum([int(record[2]) for record in record_list])\n",
    "qua_users = set([qua_users.append(y[1]) for y in record_list])\n",
    "   # qua_users = qua_users.append(y[1])\n",
    "print(qua_views)\n",
    "print(qua_users)\n",
    "\n",
    "#len(set())"
   ]
  },
  {
   "cell_type": "markdown",
   "metadata": {},
   "source": [
    "## Задание 4"
   ]
  },
  {
   "cell_type": "markdown",
   "metadata": {},
   "source": [
    "Дана статистика рекламных кампаний по дням. Напишите алгоритм, который по паре дата-кампания ищет значение численного столбца. \n",
    "Т. е. для даты '2018-01-01' и 'google' нужно получить число 25. \n",
    "Считайте, что все комбинации дата-кампания уникальны."
   ]
  },
  {
   "cell_type": "code",
   "execution_count": 8,
   "metadata": {},
   "outputs": [],
   "source": [
    "stats = [\n",
    "    ['2018-01-01', 'google', 25],\n",
    "    ['2018-01-01', 'yandex', 65],\n",
    "    ['2018-01-01', 'market', 89],\n",
    "    ['2018-01-02', 'google', 574],\n",
    "    ['2018-01-02', 'yandex', 249],\n",
    "    ['2018-01-02', 'market', 994],\n",
    "    ['2018-01-03', 'google', 1843],\n",
    "    ['2018-01-03', 'yandex', 1327],\n",
    "    ['2018-01-03', 'market', 1764],\n",
    "]"
   ]
  },
  {
   "cell_type": "code",
   "execution_count": 10,
   "metadata": {},
   "outputs": [
    {
     "name": "stdout",
     "output_type": "stream",
     "text": [
      "Введите дату в формате гггг-мм-дд2018-01-01\n",
      "Введите название компанииyandex\n",
      "date[2018-01-01] company[yandex] number[65]\n"
     ]
    }
   ],
   "source": [
    "input_date = input('Введите дату в формате гггг-мм-дд')\n",
    "input_company = input('Введите название компании')\n",
    "input_company = input_company.lower()\n",
    "found = False\n",
    "for log in stats:\n",
    "    if (log[0] == input_date and log[1] == input_company):\n",
    "        print('date[{}] company[{}] number[{}]'.format(log[0],log[1],log[2]))\n",
    "        found = True\n",
    "if (found == False):\n",
    "    print('No data on your request')"
   ]
  }
 ],
 "metadata": {
  "kernelspec": {
   "display_name": "Python 3",
   "language": "python",
   "name": "python3"
  },
  "language_info": {
   "codemirror_mode": {
    "name": "ipython",
    "version": 3
   },
   "file_extension": ".py",
   "mimetype": "text/x-python",
   "name": "python",
   "nbconvert_exporter": "python",
   "pygments_lexer": "ipython3",
   "version": "3.7.4"
  }
 },
 "nbformat": 4,
 "nbformat_minor": 2
}
