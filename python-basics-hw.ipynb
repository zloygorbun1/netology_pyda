{
 "cells": [
  {
   "cell_type": "markdown",
   "metadata": {},
   "source": [
    "**Задание 1**. Даны 2 строки: *long_phrase* и *short_phrase*. \n",
    "Напишите код, который проверяет действительно ли длинная фраза *long_phrase* длиннее короткой *short_phrase*. И выводит *True* или *False* в зависимости от результата сравнения."
   ]
  },
  {
   "cell_type": "code",
   "execution_count": 2,
   "metadata": {},
   "outputs": [],
   "source": [
    "long_phrase = 'Насколько проще было бы писать программы, если бы не заказчики'\n",
    "short_phrase = '640Кб должно хватить для любых задач. Билл Гейтс (по легенде)'"
   ]
  },
  {
   "cell_type": "code",
   "execution_count": null,
   "metadata": {},
   "outputs": [],
   "source": [
    "len(long_phrase) > len(short_phrase)"
   ]
  },
  {
   "cell_type": "markdown",
   "metadata": {},
   "source": [
    "**Задание 2**. Дано значение объема файла в байтах. Напишите перевод этого значения в мегабайты в формате: \"*Объем файла равен 213.68Mb*\""
   ]
  },
  {
   "cell_type": "code",
   "execution_count": 1,
   "metadata": {},
   "outputs": [
    {
     "name": "stdout",
     "output_type": "stream",
     "text": [
      "Введите размер файла в байтах 252\n",
      "Объем файла равен 0.25 MB\n"
     ]
    }
   ],
   "source": [
    "vol_f = int(input(\"Введите размер файла в байтах \"))\n",
    "print(\"Объем файла равен\", round(float(vol_f/1024),2), \"MB\")"
   ]
  },
  {
   "cell_type": "markdown",
   "metadata": {},
   "source": [
    "**Задание 3**. Разработать приложение для определения знака зодиака по дате рождения. Пример:\n",
    "\n",
    "Введите месяц: март\n",
    "\n",
    "Введите число: 6\n",
    "\n",
    "Вывод:\n",
    "Рыбы."
   ]
  },
  {
   "cell_type": "code",
   "execution_count": 20,
   "metadata": {},
   "outputs": [
    {
     "name": "stdout",
     "output_type": "stream",
     "text": [
      "Введите месяц (от 1 до 12)03\n",
      "Введите число (от 1 до 31)13\n",
      "Удивительно! Но это не человек, а \n",
      "Рыбы\n"
     ]
    }
   ],
   "source": [
    "m = int(input(\"Введите месяц (от 1 до 12)\"))\n",
    "d = int(input(\"Введите число (от 1 до 31)\"))\n",
    "print(\"Удивительно! Но это не человек, а \")\n",
    "if m == 3 and 21 <= d <= 31 or m == 4 and 1 <= d <= 20:\n",
    "    print(\"Овен\")\n",
    "elif m == 4 and 21 <= d <= 30 or m == 5 and 1 <= d <= 20:\n",
    "    print(\"Телец\")\n",
    "elif m == 5 and 21 <= d <= 31 or m == 6 and 1 <= d <= 20:\n",
    "    print(\"Близнецы\")\n",
    "elif m == 6 and 21 <= d <= 30 or m == 7 and 1 <= d <= 22:\n",
    "    print(\"Рак\")\n",
    "elif m == 7 and 23 <= d <= 31 or m == 8 and 1 <= d <= 22:\n",
    "    print(\"Лев\")\n",
    "elif m == 8 and 23 <= d <= 31 or m == 9 and 1 <= d <= 23:\n",
    "    print(\"Дева\")\n",
    "elif m == 9 and 24 <= d <= 30 or m == 10 and 1 <= d <= 23:\n",
    "    print(\"Весы\")\n",
    "elif m == 10 and 24 <= d <= 31 or m == 11 and 1 <= d <= 21:\n",
    "    print(\"Скорпион\")\n",
    "elif m == 11 and 22 <= d <= 30 or m == 12 and 1 <= d <= 21:\n",
    "    print(\"Стрелец\")\n",
    "elif m == 12 and 22 <= d <= 31 or m == 1 and 1 <= d <= 19:\n",
    "    print(\"Козерог\")\n",
    "elif m == 1 and 20 <= d <= 31 or m == 2 and 1 <= d <= 18:\n",
    "    print(\"Водолей\")\n",
    "elif m == 2 and 19 <= d <= 29 or m == 3 and 1 <= d <= 20:\n",
    "    print(\"Рыбы\")\n",
    "else:\n",
    "    print(\"Выхухоль! Шутка =) \\nПожалйуста, перезапустите программу и введите корректную земную дату\")\n"
   ]
  },
  {
   "cell_type": "markdown",
   "metadata": {},
   "source": [
    "**Задание 4**. Нужно разработать приложение для финансового планирования.\n",
    "Приложение учитывает сколько уходит на ипотеку, \"на жизнь\" и сколько нужно отложить на пенсию.\n",
    "Пользователь вводит:\n",
    "- заработанную плату в месяц.\n",
    "- сколько процентов от ЗП уходит на ипотеку.\n",
    "- сколько процентов от ЗП уходит \"на жизнь\".\n",
    "- сколько раз приходит премия в год.\n",
    "\n",
    "Остальная часть заработанной платы откладывается на пенсию.\n",
    "\n",
    "Также пользователю приходит премия в размере зарплаты, от которой половина уходит на отпуск, а вторая половина откладывается.\n",
    "\n",
    "Программа должна учитывать сколько премий было в год.\n",
    "\n",
    "Нужно вывести сколько денег тратит пользователь на ипотеку и сколько он накопит за год.\n",
    "\n",
    "Пример:\n",
    "\n",
    "Введите заработанную плату в месяц: 100000\n",
    "\n",
    "Введите сколько процентов уходит на ипотеку: 30\n",
    "\n",
    "Введите сколько процентов уходит на жизнь: 50\n",
    "\n",
    "Введите количество премий за год: 2\n",
    "\n",
    "Вывод:\n",
    "На ипотеку было потрачено: 360000 рублей\n",
    "Было накоплено: 340000 рублей"
   ]
  },
  {
   "cell_type": "code",
   "execution_count": 4,
   "metadata": {
    "scrolled": true
   },
   "outputs": [
    {
     "name": "stdout",
     "output_type": "stream",
     "text": [
      "How you good in finances? =)\n",
      "Сколько зарарбатываете в месяц? 100000\n",
      "Сколько было премий? 2\n",
      "Сколько денег уходит на ипотеку? (в %)55\n",
      "Сколько денег уходит 'на жизнь'? (в %)55\n",
      "К сожалению, вы не можете потратить больше чем заработали. Проверьте данные.\n"
     ]
    }
   ],
   "source": [
    "print(\"How you good in finances? =)\")\n",
    "zp = int(input(\"Сколько зарарбатываете в месяц? \"))\n",
    "pr = int(input(\"Сколько было премий? \"))\n",
    "ip = int(input(\"Сколько денег уходит на ипотеку? (в %)\"))\n",
    "li = int(input(\"Сколько денег уходит 'на жизнь'? (в %)\"))\n",
    "cons_ip_li = ip + li\n",
    "if cons_ip_li > 100:\n",
    "    print(\"К сожалению, вы не можете потратить больше чем заработали. Проверьте данные.\")\n",
    "else:\n",
    "    sc_ipo = (zp * (ip / 100) * 12) \n",
    "    sc_earnd = (100 - ip - li) / 100 * zp * 12 + zp * pr / 2\n",
    "    print(\"На ипотеку потрачаено: \", sc_ipo)\n",
    "    print(\"Пенсионный фонд составил: \",sc_earnd)"
   ]
  },
  {
   "cell_type": "markdown",
   "metadata": {},
   "source": [
    "Задание 1\n",
    "https://ru.wikipedia.org/wiki/Fizz_buzz\n",
    "Начинающий произносит число “1”, и каждый следующий игрок прибавляет к предыдущему значению единицу. Когда число делится на три оно заменяется на fizz, если число делится на пять, то произносится buzz. Числа, делящиеся на три и пять одновременно заменяются на fizz buzz. Сделавший ошибку игрок исключается из игры.\n",
    "\n",
    "Типичная партия в fizz buzz выглядит так:\n",
    "1, 2, Fizz, 4, Buzz, Fizz, 7, 8, Fizz, Buzz, 11, Fizz, 13, 14, Fizz Buzz, 16, 17, Fizz, 19, Buzz, Fizz, 22, 23, Fizz, Buzz, 26, Fizz, 28, 29, Fizz Buzz, 31, 32, Fizz, 34, Buzz, Fizz, …\n",
    "\n",
    "Напишите код, выводящий на экран первые n элементов этой игры (естественно, корректные)."
   ]
  },
  {
   "cell_type": "code",
   "execution_count": 10,
   "metadata": {},
   "outputs": [
    {
     "name": "stdout",
     "output_type": "stream",
     "text": [
      "До какого считать?16\n",
      "1\n",
      "2\n",
      "fizz\n",
      "4\n",
      "buzz\n",
      "fizz\n",
      "7\n",
      "8\n",
      "fizz\n",
      "buzz\n",
      "11\n",
      "fizz\n",
      "13\n",
      "14\n",
      "fizz buzz\n"
     ]
    }
   ],
   "source": [
    "for n in range(1, int(input(\"До какого считать?\"))):\n",
    "    if n % 3 == 0 and n % 5 == 0:\n",
    "        print(\"fizz buzz\")\n",
    "    elif n % 3 == 0:\n",
    "        print(\"fizz\")\n",
    "    elif n % 5 == 0:\n",
    "        print(\"buzz\")\n",
    "    else:\n",
    "        print(n)"
   ]
  },
  {
   "cell_type": "markdown",
   "metadata": {},
   "source": [
    "#3. Дано слово из латинских букв. Напишите скрипт, который выводит на экран букву из середины слова (если число букв нечетное). Если букв четное число, то на экран выводятся две буквы из середины.\n",
    "\n",
    "Для ‘test’ - 'es’\n",
    "Для ‘testing’ - ‘t’"
   ]
  },
  {
   "cell_type": "code",
   "execution_count": 14,
   "metadata": {},
   "outputs": [
    {
     "name": "stdout",
     "output_type": "stream",
     "text": [
      "Какое слово предпочитаете? \n",
      "r\n",
      "r\n"
     ]
    }
   ],
   "source": [
    "word = str(input(\"Какое слово предпочитаете? \"))\n",
    "chet_result = word[int(len(word) / 2) - 1] + word[int(len(word) / 2)]\n",
    "nechet_result = word[int(len(word) / 2)]\n",
    "if len(word) % 2 == 0:\n",
    "    print(chet_result)\n",
    "else:\n",
    "    print(nechet_result)"
   ]
  },
  {
   "cell_type": "code",
   "execution_count": null,
   "metadata": {},
   "outputs": [],
   "source": []
  },
  {
   "cell_type": "code",
   "execution_count": null,
   "metadata": {},
   "outputs": [],
   "source": []
  },
  {
   "cell_type": "code",
   "execution_count": null,
   "metadata": {},
   "outputs": [],
   "source": []
  }
 ],
 "metadata": {
  "kernelspec": {
   "display_name": "Python 3",
   "language": "python",
   "name": "python3"
  },
  "language_info": {
   "codemirror_mode": {
    "name": "ipython",
    "version": 3
   },
   "file_extension": ".py",
   "mimetype": "text/x-python",
   "name": "python",
   "nbconvert_exporter": "python",
   "pygments_lexer": "ipython3",
   "version": "3.7.4"
  }
 },
 "nbformat": 4,
 "nbformat_minor": 2
}
